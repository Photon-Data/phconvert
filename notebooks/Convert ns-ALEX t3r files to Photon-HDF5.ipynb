{
 "cells": [
  {
   "cell_type": "markdown",
   "metadata": {},
   "source": [
    "# Convert ns-ALEX t3r files to Photon-HDF5"
   ]
  },
  {
   "cell_type": "code",
   "execution_count": 1,
   "metadata": {
    "ExecuteTime": {
     "end_time": "2017-08-29T10:15:24.200025Z",
     "start_time": "2017-08-29T10:15:24.188234Z"
    },
    "collapsed": true
   },
   "outputs": [],
   "source": [
    "filename = 'data/Point_11_s23d9A15_70%sucrose_55%.t3r'"
   ]
  },
  {
   "cell_type": "code",
   "execution_count": 2,
   "metadata": {
    "ExecuteTime": {
     "end_time": "2017-08-29T10:15:25.859761Z",
     "start_time": "2017-08-29T10:15:25.843054Z"
    },
    "collapsed": false
   },
   "outputs": [
    {
     "name": "stdout",
     "output_type": "stream",
     "text": [
      "Data file found, you can proceed.\n"
     ]
    }
   ],
   "source": [
    "import os\n",
    "try: \n",
    "    with open(filename): pass\n",
    "    print('Data file found, you can proceed.')\n",
    "except IOError:\n",
    "    print('ATTENTION: Data file not found, please check the filename.\\n'\n",
    "          '           (current value \"%s\")' % filename)"
   ]
  },
  {
   "cell_type": "code",
   "execution_count": 3,
   "metadata": {
    "ExecuteTime": {
     "end_time": "2017-08-29T10:15:28.847690Z",
     "start_time": "2017-08-29T10:15:28.587779Z"
    },
    "collapsed": true
   },
   "outputs": [],
   "source": [
    "import matplotlib.pyplot as plt"
   ]
  },
  {
   "cell_type": "code",
   "execution_count": 4,
   "metadata": {
    "ExecuteTime": {
     "end_time": "2017-08-29T10:15:31.068705Z",
     "start_time": "2017-08-29T10:15:30.683196Z"
    },
    "collapsed": false
   },
   "outputs": [
    {
     "name": "stdout",
     "output_type": "stream",
     "text": [
      "phconvert version: 0+unknown\n"
     ]
    }
   ],
   "source": [
    "%matplotlib inline\n",
    "import numpy as np\n",
    "import phconvert as phc\n",
    "print('phconvert version: ' + phc.__version__)"
   ]
  },
  {
   "cell_type": "code",
   "execution_count": 5,
   "metadata": {
    "ExecuteTime": {
     "end_time": "2017-08-29T10:15:39.118333Z",
     "start_time": "2017-08-29T10:15:33.099461Z"
    },
    "collapsed": false
   },
   "outputs": [
    {
     "name": "stdout",
     "output_type": "stream",
     "text": [
      " - Loading 'data/Point_11_s23d9A15_70%sucrose_55%.t3r' ... \n"
     ]
    },
    {
     "name": "stderr",
     "output_type": "stream",
     "text": [
      "/home/biswajit/anaconda3/lib/python3.6/site-packages/phconvert-0+unknown-py3.6.egg/phconvert/pqreader.py:511: VisibleDeprecationWarning: converting an array with ndim > 0 to an index will result in an error in the future\n",
      "  ImgHdr = np.fromfile(f, dtype='int32', count=ttmode['ImgHdrSize'])\n",
      "/home/biswajit/anaconda3/lib/python3.6/site-packages/phconvert-0+unknown-py3.6.egg/phconvert/pqreader.py:514: VisibleDeprecationWarning: converting an array with ndim > 0 to an index will result in an error in the future\n",
      "  t3records = np.fromfile(f, dtype='uint32', count=ttmode['nRecords'])\n"
     ]
    },
    {
     "name": "stdout",
     "output_type": "stream",
     "text": [
      " [DONE]\n",
      "\n"
     ]
    }
   ],
   "source": [
    "d, meta = phc.loader.nsalex_t3r(filename,\n",
    "                                donor = 1,\n",
    "                                acceptor = 0,\n",
    "                                alex_period_donor = (4000, 5000),\n",
    "                                alex_period_acceptor = (0, 3000),\n",
    "                                excitation_wavelengths = (470e-9, 635e-9),\n",
    "                                detection_wavelengths = (525e-9, 690e-9),\n",
    "                                )"
   ]
  },
  {
   "cell_type": "code",
   "execution_count": 6,
   "metadata": {
    "ExecuteTime": {
     "end_time": "2017-08-29T10:15:45.182360Z",
     "start_time": "2017-08-29T10:15:44.363950Z"
    },
    "collapsed": false
   },
   "outputs": [
    {
     "data": {
      "image/png": "[encoded data removed]",
      "text/plain": [
       "<matplotlib.figure.Figure at 0x7fc73ac86eb8>"
      ]
     },
     "metadata": {},
     "output_type": "display_data"
    }
   ],
   "source": [
    "phc.plotter.alternation_hist(d)"
   ]
  },
  {
   "cell_type": "code",
   "execution_count": 7,
   "metadata": {
    "ExecuteTime": {
     "end_time": "2017-08-29T10:15:53.533773Z",
     "start_time": "2017-08-29T10:15:53.458833Z"
    },
    "collapsed": false
   },
   "outputs": [
    {
     "name": "stdout",
     "output_type": "stream",
     "text": [
      "Detector    Counts\n",
      "--------   --------\n",
      "       0       9156\n",
      "       1    3405568\n"
     ]
    }
   ],
   "source": [
    "detectors = d['photon_data']['detectors']\n",
    "\n",
    "print(\"Detector    Counts\")\n",
    "print(\"--------   --------\")\n",
    "for det, count in zip(*np.unique(detectors, return_counts=True)):\n",
    "    print(\"%8d   %8d\" % (det, count))"
   ]
  },
  {
   "cell_type": "markdown",
   "metadata": {},
   "source": [
    "## Meta data"
   ]
  },
  {
   "cell_type": "code",
   "execution_count": 8,
   "metadata": {
    "ExecuteTime": {
     "end_time": "2017-08-29T10:15:57.313895Z",
     "start_time": "2017-08-29T10:15:57.298641Z"
    },
    "collapsed": true
   },
   "outputs": [],
   "source": [
    "author = 'Biswajit'\n",
    "author_affiliation = 'Leiden University'\n",
    "description = 'A demonstrative pt3 data readin.'\n",
    "sample_name = 'ttttt'\n",
    "dye_names = 'ATTO655'\n",
    "buffer_name = 'HEPES pH7 with 100 mM NaCl'"
   ]
  },
  {
   "cell_type": "markdown",
   "metadata": {},
   "source": [
    "### Add meta data"
   ]
  },
  {
   "cell_type": "code",
   "execution_count": 9,
   "metadata": {
    "ExecuteTime": {
     "end_time": "2017-08-29T10:16:07.759994Z",
     "start_time": "2017-08-29T10:16:07.739112Z"
    },
    "collapsed": true
   },
   "outputs": [],
   "source": [
    "d['description'] = description\n",
    "\n",
    "d['sample'] = dict(\n",
    "    sample_name=sample_name,\n",
    "    dye_names=dye_names,\n",
    "    buffer_name=buffer_name,\n",
    "    num_dyes = len(dye_names.split(',')))\n",
    "\n",
    "d['identity'] = dict(\n",
    "    author=author,\n",
    "    author_affiliation=author_affiliation)"
   ]
  },
  {
   "cell_type": "code",
   "execution_count": 10,
   "metadata": {
    "ExecuteTime": {
     "end_time": "2017-08-29T10:16:08.898269Z",
     "start_time": "2017-08-29T10:16:08.887186Z"
    },
    "collapsed": true
   },
   "outputs": [],
   "source": [
    "# Remove some empty groups that may cause errors on saving\n",
    "_ = meta.pop('dispcurve', None)\n",
    "_ = meta.pop('imghdr', None)"
   ]
  },
  {
   "cell_type": "code",
   "execution_count": 11,
   "metadata": {
    "ExecuteTime": {
     "end_time": "2017-08-29T10:16:10.071344Z",
     "start_time": "2017-08-29T10:16:10.059033Z"
    },
    "collapsed": true
   },
   "outputs": [],
   "source": [
    "d['user'] = {'picoquant': meta}"
   ]
  },
  {
   "cell_type": "markdown",
   "metadata": {
    "collapsed": true
   },
   "source": [
    "## Save to Photon-HDF5"
   ]
  },
  {
   "cell_type": "code",
   "execution_count": 12,
   "metadata": {
    "ExecuteTime": {
     "end_time": "2017-08-29T10:16:12.569856Z",
     "start_time": "2017-08-29T10:16:11.851283Z"
    },
    "collapsed": false
   },
   "outputs": [
    {
     "name": "stdout",
     "output_type": "stream",
     "text": [
      "Saving: data/Point_11_s23d9A15_70%sucrose_55%.hdf5\n"
     ]
    }
   ],
   "source": [
    "phc.hdf5.save_photon_hdf5(d, overwrite=True)"
   ]
  },
  {
   "cell_type": "code",
   "execution_count": 13,
   "metadata": {
    "ExecuteTime": {
     "end_time": "2017-08-29T10:16:21.043079Z",
     "start_time": "2017-08-29T10:16:21.034044Z"
    },
    "collapsed": true
   },
   "outputs": [],
   "source": [
    "# del d"
   ]
  },
  {
   "cell_type": "markdown",
   "metadata": {},
   "source": [
    "## Load Photon-HDF5"
   ]
  },
  {
   "cell_type": "code",
   "execution_count": 14,
   "metadata": {
    "ExecuteTime": {
     "end_time": "2017-08-29T10:16:22.323764Z",
     "start_time": "2017-08-29T10:16:22.315145Z"
    },
    "collapsed": true
   },
   "outputs": [],
   "source": [
    "from pprint import pprint"
   ]
  },
  {
   "cell_type": "code",
   "execution_count": 15,
   "metadata": {
    "ExecuteTime": {
     "end_time": "2017-08-29T10:16:23.286363Z",
     "start_time": "2017-08-29T10:16:23.275571Z"
    },
    "collapsed": false
   },
   "outputs": [],
   "source": [
    "filename = d['_data_file'].filename"
   ]
  },
  {
   "cell_type": "code",
   "execution_count": 16,
   "metadata": {
    "ExecuteTime": {
     "end_time": "2017-08-29T10:16:24.559705Z",
     "start_time": "2017-08-29T10:16:24.483431Z"
    },
    "collapsed": true
   },
   "outputs": [],
   "source": [
    "h5data = phc.hdf5.load_photon_hdf5(filename)"
   ]
  },
  {
   "cell_type": "code",
   "execution_count": 17,
   "metadata": {
    "ExecuteTime": {
     "end_time": "2017-08-29T10:16:25.164408Z",
     "start_time": "2017-08-29T10:16:25.140256Z"
    },
    "collapsed": false
   },
   "outputs": [
    {
     "data": {
      "text/plain": [
       "{'author': 'Biswajit',\n",
       " 'author_affiliation': 'Leiden University',\n",
       " 'creation_time': '2017-08-29 10:16:11',\n",
       " 'filename': 'Point_11_s23d9A15_70%sucrose_55%.hdf5',\n",
       " 'filename_full': '/home/biswajit/Research/Experimental/Analysis/Histogram_simulation/Python_simulation_Biswajit/photon_simulation/phconvert-outcome/notebook-Biswajit/data/Point_11_s23d9A15_70%sucrose_55%.hdf5',\n",
       " 'format_name': 'Photon-HDF5',\n",
       " 'format_url': 'http://photon-hdf5.org/',\n",
       " 'format_version': '0.4',\n",
       " 'software': 'phconvert',\n",
       " 'software_version': '0+unknown'}"
      ]
     },
     "execution_count": 17,
     "metadata": {},
     "output_type": "execute_result"
    }
   ],
   "source": [
    "phc.hdf5.dict_from_group(h5data.identity)"
   ]
  },
  {
   "cell_type": "code",
   "execution_count": 18,
   "metadata": {
    "ExecuteTime": {
     "end_time": "2017-08-29T10:16:26.016099Z",
     "start_time": "2017-08-29T10:16:25.992540Z"
    },
    "collapsed": false
   },
   "outputs": [
    {
     "data": {
      "text/plain": [
       "{'detection_wavelengths': array([  5.25000000e-07,   6.90000000e-07]),\n",
       " 'excitation_cw': array([0, 0], dtype=uint8),\n",
       " 'excitation_wavelengths': array([  4.70000000e-07,   6.35000000e-07]),\n",
       " 'lifetime': 1,\n",
       " 'modulated_excitation': 1,\n",
       " 'num_pixels': 2,\n",
       " 'num_polarization_ch': 1,\n",
       " 'num_spectral_ch': 2,\n",
       " 'num_split_ch': 1,\n",
       " 'num_spots': 1}"
      ]
     },
     "execution_count": 18,
     "metadata": {},
     "output_type": "execute_result"
    }
   ],
   "source": [
    "phc.hdf5.dict_from_group(h5data.setup)"
   ]
  },
  {
   "cell_type": "code",
   "execution_count": 19,
   "metadata": {
    "ExecuteTime": {
     "end_time": "2017-08-29T10:16:27.177074Z",
     "start_time": "2017-08-29T10:16:27.010358Z"
    },
    "collapsed": false
   },
   "outputs": [
    {
     "name": "stdout",
     "output_type": "stream",
     "text": [
      "{'detectors': array([0, 1, 0, ..., 1, 1, 1], dtype=uint8),\n",
      " 'measurement_specs': {'alex_excitation_period1': [4000, 5000],\n",
      "                       'alex_excitation_period2': [0, 3000],\n",
      "                       'detectors_specs': {'spectral_ch1': array([1], dtype=uint8),\n",
      "                                           'spectral_ch2': array([0], dtype=uint8)},\n",
      "                       'laser_repetition_rate': 4696064.0,\n",
      "                       'measurement_type': 'smFRET-nsALEX'},\n",
      " 'nanotimes': array([   3, 1376, 2048, ..., 1377, 1380, 1373], dtype=uint16),\n",
      " 'nanotimes_specs': {'tcspc_num_bins': 4096,\n",
      "                     'tcspc_range': 1.6277873271519638e-07,\n",
      "                     'tcspc_unit': 3.974090154179599e-11},\n",
      " 'timestamps': array([    65540,    120850,    196607, ..., 600064325, 600064335,\n",
      "       600064417]),\n",
      " 'timestamps_specs': {'timestamps_unit': 1e-07}}\n"
     ]
    }
   ],
   "source": [
    "pprint(phc.hdf5.dict_from_group(h5data.photon_data))"
   ]
  },
  {
   "cell_type": "code",
   "execution_count": 20,
   "metadata": {
    "ExecuteTime": {
     "end_time": "2017-08-29T10:16:28.074792Z",
     "start_time": "2017-08-29T10:16:28.054728Z"
    },
    "collapsed": true
   },
   "outputs": [],
   "source": [
    "h5data._v_file.close()"
   ]
  },
  {
   "cell_type": "code",
   "execution_count": null,
   "metadata": {
    "collapsed": true
   },
   "outputs": [],
   "source": []
  }
 ],
 "metadata": {
  "anaconda-cloud": {},
  "hide_input": false,
  "kernelspec": {
   "display_name": "Python 3",
   "language": "python",
   "name": "python3"
  },
  "language_info": {
   "codemirror_mode": {
    "name": "ipython",
    "version": 3
   },
   "file_extension": ".py",
   "mimetype": "text/x-python",
   "name": "python",
   "nbconvert_exporter": "python",
   "pygments_lexer": "ipython3",
   "version": "3.6.0"
  },
  "latex_envs": {
   "LaTeX_envs_menu_present": true,
   "autocomplete": true,
   "bibliofile": "biblio.bib",
   "cite_by": "apalike",
   "current_citInitial": 1,
   "eqLabelWithNumbers": true,
   "eqNumInitial": 1,
   "hotkeys": {
    "equation": "Ctrl-E",
    "itemize": "Ctrl-I"
   },
   "labels_anchors": false,
   "latex_user_defs": false,
   "report_style_numbering": false,
   "user_envs_cfg": false
  },
  "toc": {
   "colors": {
    "hover_highlight": "#DAA520",
    "navigate_num": "#000000",
    "navigate_text": "#333333",
    "running_highlight": "#FF0000",
    "selected_highlight": "#FFD700",
    "sidebar_border": "#EEEEEE",
    "wrapper_background": "#FFFFFF"
   },
   "moveMenuLeft": true,
   "nav_menu": {
    "height": "47px",
    "width": "252px"
   },
   "navigate_menu": true,
   "number_sections": true,
   "sideBar": true,
   "threshold": 4,
   "toc_cell": false,
   "toc_section_display": "block",
   "toc_window_display": false,
   "widenNotebook": false
  }
 },
 "nbformat": 4,
 "nbformat_minor": 1
}
