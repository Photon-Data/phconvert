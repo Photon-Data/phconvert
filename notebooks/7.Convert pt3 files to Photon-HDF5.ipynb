{
 "cells": [
  {
   "cell_type": "markdown",
   "metadata": {},
   "source": [
    "# Convert pt3 files to Photon-HDF5\n",
    "\n",
    "\n",
    "# 2. Prepare the data file\n",
    "\n",
    "\n",
    "Before starting, you have to upload a data file to be converted to Photon-HDF5.\n",
    "You can use one of our example data files available\n",
    "[on figshare](https://figshare.com/articles/data_files_for_phconvert/5421565). \n",
    "\n",
    "\n",
    "Specify the input data file in the following cell:"
   ]
  },
  {
   "cell_type": "code",
   "execution_count": null,
   "metadata": {
    "ExecuteTime": {
     "end_time": "2017-09-20T11:38:28.691968Z",
     "start_time": "2017-09-20T11:38:28.685149Z"
    },
    "collapsed": true
   },
   "outputs": [],
   "source": [
    "filename = 'data/Point_5_a2_1mMAsc.pt3'"
   ]
  },
  {
   "cell_type": "code",
   "execution_count": null,
   "metadata": {
    "ExecuteTime": {
     "end_time": "2017-09-20T11:38:29.132772Z",
     "start_time": "2017-09-20T11:38:29.110908Z"
    },
    "collapsed": true
   },
   "outputs": [],
   "source": [
    "from __future__ import print_function, division\n",
    "from past.builtins import xrange\n",
    "from builtins import zip\n",
    "\n",
    "import os\n",
    "import struct\n",
    "import time\n",
    "from collections import OrderedDict\n",
    "import numpy as np"
   ]
  },
  {
   "cell_type": "code",
   "execution_count": null,
   "metadata": {
    "ExecuteTime": {
     "end_time": "2017-09-20T11:38:29.488091Z",
     "start_time": "2017-09-20T11:38:29.473854Z"
    }
   },
   "outputs": [],
   "source": [
    "%matplotlib inline\n",
    "import numpy as np\n",
    "import phconvert as phc\n",
    "print('phconvert version: ' + phc.__version__)"
   ]
  },
  {
   "cell_type": "code",
   "execution_count": null,
   "metadata": {
    "ExecuteTime": {
     "end_time": "2017-09-20T11:38:29.871037Z",
     "start_time": "2017-09-20T11:38:29.859173Z"
    }
   },
   "outputs": [],
   "source": [
    "import os\n",
    "try: \n",
    "    with open(filename): pass\n",
    "    print('Data file found, you can proceed.')\n",
    "except IOError:\n",
    "    print('ATTENTION: Data file not found, please check the filename.\\n'\n",
    "          '           (current value \"%s\")' % filename)"
   ]
  },
  {
   "cell_type": "markdown",
   "metadata": {},
   "source": [
    "## Load Data"
   ]
  },
  {
   "cell_type": "code",
   "execution_count": null,
   "metadata": {
    "ExecuteTime": {
     "end_time": "2017-09-20T11:38:30.955203Z",
     "start_time": "2017-09-20T11:38:30.933409Z"
    }
   },
   "outputs": [],
   "source": [
    "d, meta = phc.loader.nsalex_pt3(filename,\n",
    "                                donor = 1,\n",
    "                                acceptor = 0,\n",
    "                                alex_period_donor = (4000, 5000),\n",
    "                                alex_period_acceptor = (0, 4000),\n",
    "                                excitation_wavelengths = (470e-9, 635e-9),\n",
    "                                detection_wavelengths = (525e-9, 690e-9),\n",
    "                                )"
   ]
  },
  {
   "cell_type": "code",
   "execution_count": null,
   "metadata": {
    "ExecuteTime": {
     "end_time": "2017-09-20T11:38:31.796855Z",
     "start_time": "2017-09-20T11:38:31.361773Z"
    }
   },
   "outputs": [],
   "source": [
    "phc.plotter.alternation_hist(d)"
   ]
  },
  {
   "cell_type": "code",
   "execution_count": null,
   "metadata": {
    "ExecuteTime": {
     "end_time": "2017-09-20T11:38:31.940796Z",
     "start_time": "2017-09-20T11:38:31.925298Z"
    }
   },
   "outputs": [],
   "source": [
    "detectors = d['photon_data']['detectors']\n",
    "\n",
    "print(\"Detector    Counts\")\n",
    "print(\"--------   --------\")\n",
    "for det, count in zip(*np.unique(detectors, return_counts=True)):\n",
    "    print(\"%8d   %8d\" % (det, count))"
   ]
  },
  {
   "cell_type": "markdown",
   "metadata": {},
   "source": [
    "## Removing the overflow counts"
   ]
  },
  {
   "cell_type": "code",
   "execution_count": null,
   "metadata": {
    "ExecuteTime": {
     "end_time": "2017-09-20T11:38:33.262723Z",
     "start_time": "2017-09-20T11:38:33.246925Z"
    }
   },
   "outputs": [],
   "source": [
    "nanotimes = d['photon_data']['nanotimes']\n",
    "detectors = d['photon_data']['detectors']\n",
    "timestamps = d['photon_data']['timestamps']\n",
    "\n",
    "overflow_nanotimes = d['photon_data']['nanotimes'] != 0\n",
    "\n",
    "detectors = detectors[overflow_nanotimes]\n",
    "timestamps = timestamps[overflow_nanotimes]\n",
    "nanotimes = nanotimes[overflow_nanotimes]"
   ]
  },
  {
   "cell_type": "code",
   "execution_count": null,
   "metadata": {
    "ExecuteTime": {
     "end_time": "2017-09-20T11:38:33.657829Z",
     "start_time": "2017-09-20T11:38:33.643303Z"
    }
   },
   "outputs": [],
   "source": [
    "print(\"Detector    Counts\")\n",
    "print(\"--------   --------\")\n",
    "for det, count in zip(*np.unique(detectors, return_counts=True)):\n",
    "    print(\"%8d   %8d\" % (det, count))"
   ]
  },
  {
   "cell_type": "code",
   "execution_count": null,
   "metadata": {
    "ExecuteTime": {
     "end_time": "2017-09-20T11:38:34.018356Z",
     "start_time": "2017-09-20T11:38:33.996512Z"
    }
   },
   "outputs": [],
   "source": [
    "d['photon_data']['nanotimes'] = nanotimes\n",
    "d['photon_data']['detectors'] = detectors\n",
    "d['photon_data']['timestamps'] = timestamps"
   ]
  },
  {
   "cell_type": "markdown",
   "metadata": {},
   "source": [
    "## Metadata"
   ]
  },
  {
   "cell_type": "code",
   "execution_count": null,
   "metadata": {
    "ExecuteTime": {
     "end_time": "2017-09-20T11:38:34.765858Z",
     "start_time": "2017-09-20T11:38:34.741739Z"
    },
    "collapsed": true
   },
   "outputs": [],
   "source": [
    "author = 'Biswajit'\n",
    "author_affiliation = 'Leiden University'\n",
    "description = 'A demonstrative pt3 data readin.'\n",
    "sample_name = 'Copper Azurin in 1mM Ascorbate'\n",
    "dye_names = 'ATTO655'\n",
    "buffer_name = 'HEPES pH7 with 100 mM NaCl'"
   ]
  },
  {
   "cell_type": "markdown",
   "metadata": {},
   "source": [
    "### Add meta data"
   ]
  },
  {
   "cell_type": "code",
   "execution_count": null,
   "metadata": {
    "ExecuteTime": {
     "end_time": "2017-09-20T11:38:35.485121Z",
     "start_time": "2017-09-20T11:38:35.460442Z"
    },
    "collapsed": true
   },
   "outputs": [],
   "source": [
    "d['description'] = description\n",
    "\n",
    "d['sample'] = dict(\n",
    "    sample_name=sample_name,\n",
    "    dye_names=dye_names,\n",
    "    buffer_name=buffer_name,\n",
    "    num_dyes = len(dye_names.split(',')))\n",
    "\n",
    "d['identity'] = dict(\n",
    "    author=author,\n",
    "    author_affiliation=author_affiliation)"
   ]
  },
  {
   "cell_type": "code",
   "execution_count": null,
   "metadata": {
    "ExecuteTime": {
     "end_time": "2017-09-20T11:38:36.081329Z",
     "start_time": "2017-09-20T11:38:36.064272Z"
    },
    "collapsed": true
   },
   "outputs": [],
   "source": [
    "# Remove some empty groups that may cause errors on saving\n",
    "_ = meta.pop('dispcurve', None)\n",
    "_ = meta.pop('imghdr', None)"
   ]
  },
  {
   "cell_type": "code",
   "execution_count": null,
   "metadata": {
    "ExecuteTime": {
     "end_time": "2017-09-20T11:38:36.552403Z",
     "start_time": "2017-09-20T11:38:36.540560Z"
    },
    "collapsed": true
   },
   "outputs": [],
   "source": [
    "d['user'] = {'picoquant': meta}"
   ]
  },
  {
   "cell_type": "markdown",
   "metadata": {},
   "source": [
    "## Save to Photon-HDF5"
   ]
  },
  {
   "cell_type": "code",
   "execution_count": null,
   "metadata": {
    "ExecuteTime": {
     "end_time": "2017-09-20T11:38:37.614282Z",
     "start_time": "2017-09-20T11:38:37.409356Z"
    }
   },
   "outputs": [],
   "source": [
    "phc.hdf5.save_photon_hdf5(d, overwrite=True)"
   ]
  },
  {
   "cell_type": "markdown",
   "metadata": {
    "collapsed": true
   },
   "source": [
    "## Load Photon-HDF5"
   ]
  },
  {
   "cell_type": "code",
   "execution_count": null,
   "metadata": {
    "ExecuteTime": {
     "end_time": "2017-09-20T11:38:38.587453Z",
     "start_time": "2017-09-20T11:38:38.574060Z"
    },
    "collapsed": true
   },
   "outputs": [],
   "source": [
    "from pprint import pprint"
   ]
  },
  {
   "cell_type": "code",
   "execution_count": null,
   "metadata": {
    "ExecuteTime": {
     "end_time": "2017-09-20T11:38:39.021844Z",
     "start_time": "2017-09-20T11:38:39.017760Z"
    },
    "collapsed": true
   },
   "outputs": [],
   "source": [
    "filename = d['_data_file'].filename"
   ]
  },
  {
   "cell_type": "code",
   "execution_count": null,
   "metadata": {
    "ExecuteTime": {
     "end_time": "2017-09-20T11:38:39.740420Z",
     "start_time": "2017-09-20T11:38:39.634161Z"
    },
    "collapsed": true
   },
   "outputs": [],
   "source": [
    "h5data = phc.hdf5.load_photon_hdf5(filename)"
   ]
  },
  {
   "cell_type": "code",
   "execution_count": null,
   "metadata": {
    "ExecuteTime": {
     "end_time": "2017-09-20T11:38:39.989133Z",
     "start_time": "2017-09-20T11:38:39.977397Z"
    }
   },
   "outputs": [],
   "source": [
    "phc.hdf5.dict_from_group(h5data.identity)"
   ]
  },
  {
   "cell_type": "code",
   "execution_count": null,
   "metadata": {
    "ExecuteTime": {
     "end_time": "2017-09-20T11:38:40.265323Z",
     "start_time": "2017-09-20T11:38:40.243722Z"
    }
   },
   "outputs": [],
   "source": [
    "phc.hdf5.dict_from_group(h5data.setup)"
   ]
  },
  {
   "cell_type": "code",
   "execution_count": null,
   "metadata": {
    "ExecuteTime": {
     "end_time": "2017-09-20T11:38:41.319520Z",
     "start_time": "2017-09-20T11:38:41.279208Z"
    }
   },
   "outputs": [],
   "source": [
    "pprint(phc.hdf5.dict_from_group(h5data.photon_data))"
   ]
  },
  {
   "cell_type": "code",
   "execution_count": null,
   "metadata": {
    "ExecuteTime": {
     "end_time": "2017-09-20T11:38:41.563018Z",
     "start_time": "2017-09-20T11:38:41.540668Z"
    }
   },
   "outputs": [],
   "source": [
    "h5data._v_file.close()"
   ]
  }
 ],
 "metadata": {
  "anaconda-cloud": {},
  "hide_input": false,
  "kernelspec": {
   "display_name": "Python 3",
   "language": "python",
   "name": "python3"
  },
  "language_info": {
   "codemirror_mode": {
    "name": "ipython",
    "version": 3
   },
   "file_extension": ".py",
   "mimetype": "text/x-python",
   "name": "python",
   "nbconvert_exporter": "python",
   "pygments_lexer": "ipython3",
   "version": "3.6.0"
  },
  "latex_envs": {
   "LaTeX_envs_menu_present": true,
   "autocomplete": true,
   "bibliofile": "biblio.bib",
   "cite_by": "apalike",
   "current_citInitial": 1,
   "eqLabelWithNumbers": true,
   "eqNumInitial": 1,
   "hotkeys": {
    "equation": "Ctrl-E",
    "itemize": "Ctrl-I"
   },
   "labels_anchors": false,
   "latex_user_defs": false,
   "report_style_numbering": false,
   "user_envs_cfg": false
  },
  "toc": {
   "colors": {
    "hover_highlight": "#DAA520",
    "navigate_num": "#000000",
    "navigate_text": "#333333",
    "running_highlight": "#FF0000",
    "selected_highlight": "#FFD700",
    "sidebar_border": "#EEEEEE",
    "wrapper_background": "#FFFFFF"
   },
   "moveMenuLeft": true,
   "nav_menu": {
    "height": "65px",
    "width": "252px"
   },
   "navigate_menu": true,
   "number_sections": true,
   "sideBar": true,
   "threshold": 4,
   "toc_cell": false,
   "toc_section_display": "block",
   "toc_window_display": false,
   "widenNotebook": false
  }
 },
 "nbformat": 4,
 "nbformat_minor": 1
}
