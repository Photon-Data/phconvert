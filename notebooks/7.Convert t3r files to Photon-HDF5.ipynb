{
 "cells": [
  {
   "cell_type": "markdown",
   "metadata": {},
   "source": [
    "# Convert t3r files to Photon-HDF5\n",
    "\n",
    "# 2. Prepare the data file\n",
    "\n",
    "Before starting, you have to upload a data file to be converted to Photon-HDF5.\n",
    "You can use one of our example data files available\n",
    "[on figshare](https://figshare.com/articles/data_files_for_phconvert/5421565). \n",
    "\n",
    "\n",
    "Specify the input data file in the following cell:"
   ]
  },
  {
   "cell_type": "code",
   "execution_count": null,
   "metadata": {
    "ExecuteTime": {
     "end_time": "2017-09-20T11:35:55.500894Z",
     "start_time": "2017-09-20T11:35:55.488310Z"
    },
    "collapsed": true
   },
   "outputs": [],
   "source": [
    "filename = 'data/Point_11_s23d9A15_70%25sucrose_55%25.t3r'"
   ]
  },
  {
   "cell_type": "code",
   "execution_count": null,
   "metadata": {
    "ExecuteTime": {
     "end_time": "2017-09-20T11:35:55.981757Z",
     "start_time": "2017-09-20T11:35:55.975994Z"
    }
   },
   "outputs": [],
   "source": [
    "import os\n",
    "try: \n",
    "    with open(filename): pass\n",
    "    print('Data file found, you can proceed.')\n",
    "except IOError:\n",
    "    print('ATTENTION: Data file not found, please check the filename.\\n'\n",
    "          '           (current value \"%s\")' % filename)"
   ]
  },
  {
   "cell_type": "code",
   "execution_count": null,
   "metadata": {
    "ExecuteTime": {
     "end_time": "2017-09-20T11:35:56.715984Z",
     "start_time": "2017-09-20T11:35:56.435949Z"
    },
    "collapsed": true
   },
   "outputs": [],
   "source": [
    "import matplotlib.pyplot as plt"
   ]
  },
  {
   "cell_type": "code",
   "execution_count": null,
   "metadata": {
    "ExecuteTime": {
     "end_time": "2017-09-20T11:35:57.174400Z",
     "start_time": "2017-09-20T11:35:56.841427Z"
    }
   },
   "outputs": [],
   "source": [
    "%matplotlib inline\n",
    "import numpy as np\n",
    "import phconvert as phc\n",
    "print('phconvert version: ' + phc.__version__)"
   ]
  },
  {
   "cell_type": "code",
   "execution_count": null,
   "metadata": {
    "ExecuteTime": {
     "end_time": "2017-09-20T11:36:31.327675Z",
     "start_time": "2017-09-20T11:36:24.952113Z"
    }
   },
   "outputs": [],
   "source": [
    "d, meta = phc.loader.nsalex_t3r(filename,\n",
    "                                donor = 1,\n",
    "                                acceptor = 0,\n",
    "                                alex_period_donor = (3000, 4000),\n",
    "                                alex_period_acceptor = (0, 2000),\n",
    "                                excitation_wavelengths = (470e-9, 635e-9),\n",
    "                                detection_wavelengths = (525e-9, 690e-9),\n",
    "                                )"
   ]
  },
  {
   "cell_type": "code",
   "execution_count": null,
   "metadata": {
    "ExecuteTime": {
     "end_time": "2017-09-20T11:36:31.998426Z",
     "start_time": "2017-09-20T11:36:31.329424Z"
    }
   },
   "outputs": [],
   "source": [
    "phc.plotter.alternation_hist(d)"
   ]
  },
  {
   "cell_type": "code",
   "execution_count": null,
   "metadata": {
    "ExecuteTime": {
     "end_time": "2017-09-20T11:36:35.976409Z",
     "start_time": "2017-09-20T11:36:35.900610Z"
    }
   },
   "outputs": [],
   "source": [
    "detectors = d['photon_data']['detectors']\n",
    "\n",
    "print(\"Detector    Counts\")\n",
    "print(\"--------   --------\")\n",
    "for det, count in zip(*np.unique(detectors, return_counts=True)):\n",
    "    print(\"%8d   %8d\" % (det, count))"
   ]
  },
  {
   "cell_type": "markdown",
   "metadata": {},
   "source": [
    "## Meta data"
   ]
  },
  {
   "cell_type": "code",
   "execution_count": null,
   "metadata": {
    "ExecuteTime": {
     "end_time": "2017-09-20T11:38:00.003636Z",
     "start_time": "2017-09-20T11:37:59.994801Z"
    },
    "collapsed": true
   },
   "outputs": [],
   "source": [
    "author = 'Biswajit'\n",
    "author_affiliation = 'Leiden University'\n",
    "description = 'A demonstrative pt3 data readin.'\n",
    "sample_name = 'Fluorescence enhancement experiment with a gold nanorod'\n",
    "dye_names = 'Alexa 647'\n",
    "buffer_name = '70% sucrose solution'"
   ]
  },
  {
   "cell_type": "markdown",
   "metadata": {},
   "source": [
    "### Add meta data"
   ]
  },
  {
   "cell_type": "code",
   "execution_count": null,
   "metadata": {
    "ExecuteTime": {
     "end_time": "2017-09-20T11:38:02.559914Z",
     "start_time": "2017-09-20T11:38:02.549250Z"
    },
    "collapsed": true
   },
   "outputs": [],
   "source": [
    "d['description'] = description\n",
    "\n",
    "d['sample'] = dict(\n",
    "    sample_name=sample_name,\n",
    "    dye_names=dye_names,\n",
    "    buffer_name=buffer_name,\n",
    "    num_dyes = len(dye_names.split(',')))\n",
    "\n",
    "d['identity'] = dict(\n",
    "    author=author,\n",
    "    author_affiliation=author_affiliation)"
   ]
  },
  {
   "cell_type": "code",
   "execution_count": null,
   "metadata": {
    "ExecuteTime": {
     "end_time": "2017-09-20T11:38:04.335514Z",
     "start_time": "2017-09-20T11:38:04.329196Z"
    },
    "collapsed": true
   },
   "outputs": [],
   "source": [
    "# Remove some empty groups that may cause errors on saving\n",
    "_ = meta.pop('dispcurve', None)\n",
    "_ = meta.pop('imghdr', None)"
   ]
  },
  {
   "cell_type": "code",
   "execution_count": null,
   "metadata": {
    "ExecuteTime": {
     "end_time": "2017-09-20T11:38:04.929529Z",
     "start_time": "2017-09-20T11:38:04.917592Z"
    },
    "collapsed": true
   },
   "outputs": [],
   "source": [
    "d['user'] = {'picoquant': meta}"
   ]
  },
  {
   "cell_type": "markdown",
   "metadata": {
    "collapsed": true
   },
   "source": [
    "## Save to Photon-HDF5"
   ]
  },
  {
   "cell_type": "code",
   "execution_count": null,
   "metadata": {
    "ExecuteTime": {
     "end_time": "2017-09-20T11:38:07.721826Z",
     "start_time": "2017-09-20T11:38:06.901147Z"
    }
   },
   "outputs": [],
   "source": [
    "phc.hdf5.save_photon_hdf5(d, overwrite=True)"
   ]
  },
  {
   "cell_type": "code",
   "execution_count": null,
   "metadata": {
    "ExecuteTime": {
     "end_time": "2017-09-20T11:38:09.519457Z",
     "start_time": "2017-09-20T11:38:09.512264Z"
    },
    "collapsed": true
   },
   "outputs": [],
   "source": [
    "# del d"
   ]
  },
  {
   "cell_type": "markdown",
   "metadata": {},
   "source": [
    "## Load Photon-HDF5"
   ]
  },
  {
   "cell_type": "code",
   "execution_count": null,
   "metadata": {
    "ExecuteTime": {
     "end_time": "2017-09-20T11:38:10.303893Z",
     "start_time": "2017-09-20T11:38:10.295553Z"
    },
    "collapsed": true
   },
   "outputs": [],
   "source": [
    "from pprint import pprint"
   ]
  },
  {
   "cell_type": "code",
   "execution_count": null,
   "metadata": {
    "ExecuteTime": {
     "end_time": "2017-09-20T11:38:10.798586Z",
     "start_time": "2017-09-20T11:38:10.786744Z"
    },
    "collapsed": true
   },
   "outputs": [],
   "source": [
    "filename = d['_data_file'].filename"
   ]
  },
  {
   "cell_type": "code",
   "execution_count": null,
   "metadata": {
    "ExecuteTime": {
     "end_time": "2017-09-20T11:38:11.368057Z",
     "start_time": "2017-09-20T11:38:11.227009Z"
    },
    "collapsed": true
   },
   "outputs": [],
   "source": [
    "h5data = phc.hdf5.load_photon_hdf5(filename)"
   ]
  },
  {
   "cell_type": "code",
   "execution_count": null,
   "metadata": {
    "ExecuteTime": {
     "end_time": "2017-09-20T11:38:11.736079Z",
     "start_time": "2017-09-20T11:38:11.712178Z"
    }
   },
   "outputs": [],
   "source": [
    "phc.hdf5.dict_from_group(h5data.identity)"
   ]
  },
  {
   "cell_type": "code",
   "execution_count": null,
   "metadata": {
    "ExecuteTime": {
     "end_time": "2017-09-20T11:38:12.313144Z",
     "start_time": "2017-09-20T11:38:12.277067Z"
    }
   },
   "outputs": [],
   "source": [
    "phc.hdf5.dict_from_group(h5data.setup)"
   ]
  },
  {
   "cell_type": "code",
   "execution_count": null,
   "metadata": {
    "ExecuteTime": {
     "end_time": "2017-09-20T11:38:13.045438Z",
     "start_time": "2017-09-20T11:38:12.824078Z"
    }
   },
   "outputs": [],
   "source": [
    "pprint(phc.hdf5.dict_from_group(h5data.photon_data))"
   ]
  },
  {
   "cell_type": "code",
   "execution_count": null,
   "metadata": {
    "ExecuteTime": {
     "end_time": "2017-09-20T11:38:15.972400Z",
     "start_time": "2017-09-20T11:38:15.961805Z"
    },
    "collapsed": true
   },
   "outputs": [],
   "source": [
    "h5data._v_file.close()"
   ]
  }
 ],
 "metadata": {
  "anaconda-cloud": {},
  "hide_input": false,
  "kernelspec": {
   "display_name": "Python 3",
   "language": "python",
   "name": "python3"
  },
  "language_info": {
   "codemirror_mode": {
    "name": "ipython",
    "version": 3
   },
   "file_extension": ".py",
   "mimetype": "text/x-python",
   "name": "python",
   "nbconvert_exporter": "python",
   "pygments_lexer": "ipython3",
   "version": "3.6.0"
  },
  "latex_envs": {
   "LaTeX_envs_menu_present": true,
   "autocomplete": true,
   "bibliofile": "biblio.bib",
   "cite_by": "apalike",
   "current_citInitial": 1,
   "eqLabelWithNumbers": true,
   "eqNumInitial": 1,
   "hotkeys": {
    "equation": "Ctrl-E",
    "itemize": "Ctrl-I"
   },
   "labels_anchors": false,
   "latex_user_defs": false,
   "report_style_numbering": false,
   "user_envs_cfg": false
  },
  "toc": {
   "colors": {
    "hover_highlight": "#DAA520",
    "navigate_num": "#000000",
    "navigate_text": "#333333",
    "running_highlight": "#FF0000",
    "selected_highlight": "#FFD700",
    "sidebar_border": "#EEEEEE",
    "wrapper_background": "#FFFFFF"
   },
   "moveMenuLeft": true,
   "nav_menu": {
    "height": "47px",
    "width": "252px"
   },
   "navigate_menu": true,
   "number_sections": true,
   "sideBar": true,
   "threshold": 4,
   "toc_cell": false,
   "toc_section_display": "block",
   "toc_window_display": false,
   "widenNotebook": false
  }
 },
 "nbformat": 4,
 "nbformat_minor": 1
}
