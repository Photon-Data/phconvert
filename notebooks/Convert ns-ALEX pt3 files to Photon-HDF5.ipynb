{
 "cells": [
  {
   "cell_type": "markdown",
   "metadata": {},
   "source": [
    "# Convert ns-ALEX pt3 files to Photon-HDF5"
   ]
  },
  {
   "cell_type": "code",
   "execution_count": 2,
   "metadata": {
    "ExecuteTime": {
     "end_time": "2017-09-07T13:07:23.420793Z",
     "start_time": "2017-09-07T13:07:23.411558Z"
    },
    "collapsed": true
   },
   "outputs": [],
   "source": [
    "filename = 'data/Point_A2_000mV(7)_60.5__30s_1.pt3'"
   ]
  },
  {
   "cell_type": "code",
   "execution_count": 3,
   "metadata": {
    "ExecuteTime": {
     "end_time": "2017-09-07T13:07:24.234766Z",
     "start_time": "2017-09-07T13:07:24.121353Z"
    },
    "collapsed": true
   },
   "outputs": [],
   "source": [
    "from __future__ import print_function, division\n",
    "from past.builtins import xrange\n",
    "from builtins import zip\n",
    "\n",
    "import os\n",
    "import struct\n",
    "import time\n",
    "from collections import OrderedDict\n",
    "import numpy as np"
   ]
  },
  {
   "cell_type": "code",
   "execution_count": 4,
   "metadata": {
    "ExecuteTime": {
     "end_time": "2017-09-07T13:07:25.506304Z",
     "start_time": "2017-09-07T13:07:24.898235Z"
    },
    "collapsed": false
   },
   "outputs": [
    {
     "name": "stdout",
     "output_type": "stream",
     "text": [
      "phconvert version: 0+unknown\n"
     ]
    }
   ],
   "source": [
    "%matplotlib inline\n",
    "import numpy as np\n",
    "import phconvert as phc\n",
    "print('phconvert version: ' + phc.__version__)"
   ]
  },
  {
   "cell_type": "code",
   "execution_count": 5,
   "metadata": {
    "ExecuteTime": {
     "end_time": "2017-09-07T13:07:26.370902Z",
     "start_time": "2017-09-07T13:07:26.246514Z"
    },
    "code_folding": [
     0
    ],
    "collapsed": true
   },
   "outputs": [],
   "source": [
    "def pt3_reader(filename):\n",
    "    \"\"\"Load raw t3 records and metadata from a PT3 file.\n",
    "    \"\"\"\n",
    "    with open(filename, 'rb') as f:\n",
    "        # - - - - - - - - - - - - - - - - - - - - - - - - - - - - - -\n",
    "        # Binary file header\n",
    "        header_dtype = np.dtype([\n",
    "            ('Ident',             'S16'   ),\n",
    "            ('FormatVersion',     'S6'    ),\n",
    "            ('CreatorName',       'S18'   ),\n",
    "            ('CreatorVersion',    'S12'   ),\n",
    "            ('FileTime',          'S18'   ),\n",
    "            ('CRLF',              'S2'    ),\n",
    "            ('Comment',           'S256'  ),\n",
    "            ('NumberOfCurves',    'int32' ),\n",
    "            ('BitsPerRecord',     'int32' ),   # bits in each T3 record\n",
    "            ('RoutingChannels',   'int32' ),\n",
    "            ('NumberOfBoards',    'int32' ),\n",
    "            ('ActiveCurve',       'int32' ),\n",
    "            ('MeasurementMode',   'int32' ),\n",
    "            ('SubMode',           'int32' ),\n",
    "            ('RangeNo',           'int32' ),\n",
    "            ('Offset',            'int32' ),\n",
    "            ('AcquisitionTime',   'int32' ),   # in ms\n",
    "            ('StopAt',            'uint32'),\n",
    "            ('StopOnOvfl',        'int32' ),\n",
    "            ('Restart',           'int32' ),\n",
    "            ('DispLinLog',        'int32' ),\n",
    "            ('DispTimeAxisFrom',  'int32' ),\n",
    "            ('DispTimeAxisTo',    'int32' ),\n",
    "            ('DispCountAxisFrom', 'int32' ),\n",
    "            ('DispCountAxisTo',   'int32' ),\n",
    "        ])\n",
    "        header = np.fromfile(f, dtype=header_dtype, count=1)\n",
    "\n",
    "        if header['FormatVersion'][0] != b'2.0':\n",
    "            raise IOError((\"Format '%s' not supported. \"\n",
    "                           \"Only valid format is '2.0'.\") % \\\n",
    "                           header['FormatVersion'][0])\n",
    "\n",
    "        dispcurve_dtype = np.dtype([\n",
    "            ('DispCurveMapTo', 'int32'),\n",
    "            ('DispCurveShow',  'int32')])\n",
    "        dispcurve = np.fromfile(f, dispcurve_dtype, count=8)\n",
    "\n",
    "        params_dtype = np.dtype([\n",
    "            ('ParamStart', 'f4'),\n",
    "            ('ParamStep',  'f4'),\n",
    "            ('ParamEnd',   'f4')])\n",
    "        params = np.fromfile(f, params_dtype, count=3)\n",
    "\n",
    "        repeat_dtype = np.dtype([\n",
    "            ('RepeatMode',      'int32'),\n",
    "            ('RepeatsPerCurve', 'int32'),\n",
    "            ('RepeatTime',       'int32'),\n",
    "            ('RepeatWaitTime',  'int32'),\n",
    "            ('ScriptName',      'S20'  )])\n",
    "        repeatgroup = np.fromfile(f, repeat_dtype, count=1)\n",
    "\n",
    "        # - - - - - - - - - - - - - - - - - - - - - - - - - - - - - -\n",
    "        # Hardware information header\n",
    "        hw_dtype = np.dtype([\n",
    "            ('HardwareIdent',   'S16'  ),\n",
    "            ('HardwarePartNo',  'S8'   ),\n",
    "            ('HardwareSerial',  'int32'),\n",
    "            ('SyncDivider',     'int32'),\n",
    "            ('CFDZeroCross0',   'int32'),\n",
    "            ('CFDLevel0',       'int32'),\n",
    "            ('CFDZeroCross1',   'int32'),\n",
    "            ('CFDLevel1',       'int32'),\n",
    "            ('Resolution',      'f4'),\n",
    "            ('RouterModelCode', 'int32'),\n",
    "            ('RouterEnabled',   'int32')])\n",
    "        hardware = np.fromfile(f, hw_dtype, count=1)\n",
    "\n",
    "        rtr_dtype = np.dtype([\n",
    "            ('InputType',       'int32'),\n",
    "            ('InputLevel',      'int32'),\n",
    "            ('InputEdge',       'int32'),\n",
    "            ('CFDPresent',      'int32'),\n",
    "            ('CFDLevel',        'int32'),\n",
    "            ('CFDZCross',       'int32')])\n",
    "        router = np.fromfile(f, rtr_dtype, count=4)\n",
    "\n",
    "        # Time tagging mode specific header\n",
    "        ttmode_dtype = np.dtype([\n",
    "            ('ExtDevices',      'int32' ),\n",
    "            ('Reserved1',       'int32' ),\n",
    "            ('Reserved2',       'int32' ),\n",
    "            ('InpRate0',        'int32' ),\n",
    "            ('InpRate1',        'int32' ),\n",
    "            ('StopAfter',       'int32' ),\n",
    "            ('StopReason',      'int32' ),\n",
    "            ('nRecords',        'int32' ),\n",
    "            ('ImgHdrSize',      'int32')])\n",
    "        ttmode = np.fromfile(f, ttmode_dtype, count=1)\n",
    "\n",
    "        # Special header for imaging. How many of the following ImgHdr\n",
    "        # array elements are actually present in the file is indicated by\n",
    "        # ImgHdrSize above.\n",
    "        ImgHdr = np.fromfile(f, dtype='int32', count=ttmode['ImgHdrSize'])\n",
    "\n",
    "        # The remainings are all T3 records\n",
    "        t3records = np.fromfile(f, dtype='uint32', count=ttmode['nRecords'])\n",
    "\n",
    "        timestamps_unit = 1./ttmode['InpRate0']\n",
    "        nanotimes_unit = 1e-9*hardware['Resolution']\n",
    "\n",
    "        metadata = dict(header=header, dispcurve=dispcurve, params=params,\n",
    "                        repeatgroup=repeatgroup, hardware=hardware,\n",
    "                        router=router, ttmode=ttmode, imghdr=ImgHdr)\n",
    "        return t3records, timestamps_unit, nanotimes_unit, metadata"
   ]
  },
  {
   "cell_type": "code",
   "execution_count": 6,
   "metadata": {
    "ExecuteTime": {
     "end_time": "2017-09-07T13:07:27.066157Z",
     "start_time": "2017-09-07T13:07:27.045295Z"
    },
    "collapsed": false
   },
   "outputs": [
    {
     "name": "stderr",
     "output_type": "stream",
     "text": [
      "/home/biswajit/anaconda3/lib/python3.6/site-packages/ipykernel/__main__.py:101: VisibleDeprecationWarning: converting an array with ndim > 0 to an index will result in an error in the future\n",
      "/home/biswajit/anaconda3/lib/python3.6/site-packages/ipykernel/__main__.py:104: VisibleDeprecationWarning: converting an array with ndim > 0 to an index will result in an error in the future\n"
     ]
    }
   ],
   "source": [
    "t3records, timestamps_unit, nanotimes_unit, metadata = pt3_reader(filename)"
   ]
  },
  {
   "cell_type": "code",
   "execution_count": 7,
   "metadata": {
    "ExecuteTime": {
     "end_time": "2017-09-07T13:07:27.842963Z",
     "start_time": "2017-09-07T13:07:27.835769Z"
    },
    "collapsed": false
   },
   "outputs": [],
   "source": [
    "photton_arrival =t3records * timestamps_unit;\n"
   ]
  },
  {
   "cell_type": "code",
   "execution_count": 8,
   "metadata": {
    "ExecuteTime": {
     "end_time": "2017-09-07T13:07:29.287345Z",
     "start_time": "2017-09-07T13:07:29.275126Z"
    },
    "collapsed": false
   },
   "outputs": [
    {
     "data": {
      "text/plain": [
       "(63092,)"
      ]
     },
     "execution_count": 8,
     "metadata": {},
     "output_type": "execute_result"
    }
   ],
   "source": [
    "np.shape(t3records)"
   ]
  },
  {
   "cell_type": "code",
   "execution_count": 9,
   "metadata": {
    "ExecuteTime": {
     "end_time": "2017-09-07T13:07:30.242551Z",
     "start_time": "2017-09-07T13:07:30.229497Z"
    },
    "collapsed": false
   },
   "outputs": [
    {
     "name": "stdout",
     "output_type": "stream",
     "text": [
      "Data file found, you can proceed.\n"
     ]
    }
   ],
   "source": [
    "import os\n",
    "try: \n",
    "    with open(filename): pass\n",
    "    print('Data file found, you can proceed.')\n",
    "except IOError:\n",
    "    print('ATTENTION: Data file not found, please check the filename.\\n'\n",
    "          '           (current value \"%s\")' % filename)"
   ]
  },
  {
   "cell_type": "markdown",
   "metadata": {},
   "source": [
    "## Load Data"
   ]
  },
  {
   "cell_type": "code",
   "execution_count": 10,
   "metadata": {
    "ExecuteTime": {
     "end_time": "2017-09-07T13:07:31.930617Z",
     "start_time": "2017-09-07T13:07:31.910518Z"
    },
    "collapsed": false
   },
   "outputs": [
    {
     "name": "stdout",
     "output_type": "stream",
     "text": [
      "phconvert version: 0+unknown\n"
     ]
    }
   ],
   "source": [
    "%matplotlib inline\n",
    "import numpy as np\n",
    "import phconvert as phc\n",
    "print('phconvert version: ' + phc.__version__)"
   ]
  },
  {
   "cell_type": "code",
   "execution_count": 11,
   "metadata": {
    "ExecuteTime": {
     "end_time": "2017-09-07T13:07:32.978442Z",
     "start_time": "2017-09-07T13:07:32.952693Z"
    },
    "collapsed": false
   },
   "outputs": [
    {
     "name": "stdout",
     "output_type": "stream",
     "text": [
      " - Loading 'data/Point_A2_000mV(7)_60.5__30s_1.pt3' ... \n",
      " [DONE]\n",
      "\n"
     ]
    },
    {
     "name": "stderr",
     "output_type": "stream",
     "text": [
      "/home/biswajit/anaconda3/lib/python3.6/site-packages/phconvert-0+unknown-py3.6.egg/phconvert/pqreader.py:391: VisibleDeprecationWarning: converting an array with ndim > 0 to an index will result in an error in the future\n",
      "  ImgHdr = np.fromfile(f, dtype='int32', count=ttmode['ImgHdrSize'])\n",
      "/home/biswajit/anaconda3/lib/python3.6/site-packages/phconvert-0+unknown-py3.6.egg/phconvert/pqreader.py:394: VisibleDeprecationWarning: converting an array with ndim > 0 to an index will result in an error in the future\n",
      "  t3records = np.fromfile(f, dtype='uint32', count=ttmode['nRecords'])\n"
     ]
    }
   ],
   "source": [
    "d, meta = phc.loader.nsalex_pt3(filename,\n",
    "                                donor = 1,\n",
    "                                acceptor = 0,\n",
    "                                alex_period_donor = (4000, 5000),\n",
    "                                alex_period_acceptor = (0, 3000),\n",
    "                                excitation_wavelengths = (470e-9, 635e-9),\n",
    "                                detection_wavelengths = (525e-9, 690e-9),\n",
    "                                )"
   ]
  },
  {
   "cell_type": "code",
   "execution_count": 12,
   "metadata": {
    "ExecuteTime": {
     "end_time": "2017-09-07T13:07:34.817118Z",
     "start_time": "2017-09-07T13:07:34.214729Z"
    },
    "collapsed": false
   },
   "outputs": [
    {
     "data": {
      "image/png": "[encoded data removed]",
      "text/plain": [
       "<matplotlib.figure.Figure at 0x7f021b9f5f60>"
      ]
     },
     "metadata": {},
     "output_type": "display_data"
    }
   ],
   "source": [
    "phc.plotter.alternation_hist(d)"
   ]
  },
  {
   "cell_type": "code",
   "execution_count": 13,
   "metadata": {
    "ExecuteTime": {
     "end_time": "2017-09-07T13:07:35.482614Z",
     "start_time": "2017-09-07T13:07:35.445907Z"
    },
    "collapsed": false
   },
   "outputs": [
    {
     "name": "stdout",
     "output_type": "stream",
     "text": [
      "Detector    Counts\n",
      "--------   --------\n",
      "       1      26475\n",
      "      15      36617\n"
     ]
    }
   ],
   "source": [
    "detectors = d['photon_data']['detectors']\n",
    "\n",
    "print(\"Detector    Counts\")\n",
    "print(\"--------   --------\")\n",
    "for det, count in zip(*np.unique(detectors, return_counts=True)):\n",
    "    print(\"%8d   %8d\" % (det, count))"
   ]
  },
  {
   "cell_type": "markdown",
   "metadata": {},
   "source": [
    "## Removing the overflow counts"
   ]
  },
  {
   "cell_type": "code",
   "execution_count": 14,
   "metadata": {
    "ExecuteTime": {
     "end_time": "2017-09-07T13:07:36.359116Z",
     "start_time": "2017-09-07T13:07:36.351214Z"
    },
    "collapsed": false
   },
   "outputs": [],
   "source": [
    "nanotimes = d['photon_data']['nanotimes']\n",
    "detectors = d['photon_data']['detectors']\n",
    "timestamps = d['photon_data']['timestamps']\n",
    "\n",
    "overflow_nanotimes = d['photon_data']['nanotimes'] != 0\n",
    "\n",
    "detectors = detectors[overflow_nanotimes]\n",
    "timestamps = timestamps[overflow_nanotimes]\n",
    "nanotimes = nanotimes[overflow_nanotimes]"
   ]
  },
  {
   "cell_type": "code",
   "execution_count": 15,
   "metadata": {
    "ExecuteTime": {
     "end_time": "2017-09-07T13:07:36.794641Z",
     "start_time": "2017-09-07T13:07:36.783234Z"
    },
    "collapsed": false
   },
   "outputs": [
    {
     "name": "stdout",
     "output_type": "stream",
     "text": [
      "Detector    Counts\n",
      "--------   --------\n",
      "       1      26471\n"
     ]
    }
   ],
   "source": [
    "print(\"Detector    Counts\")\n",
    "print(\"--------   --------\")\n",
    "for det, count in zip(*np.unique(detectors, return_counts=True)):\n",
    "    print(\"%8d   %8d\" % (det, count))"
   ]
  },
  {
   "cell_type": "code",
   "execution_count": 16,
   "metadata": {
    "ExecuteTime": {
     "end_time": "2017-09-07T13:07:37.214613Z",
     "start_time": "2017-09-07T13:07:37.203504Z"
    },
    "collapsed": false
   },
   "outputs": [],
   "source": [
    "d['photon_data']['nanotimes'] = nanotimes\n",
    "d['photon_data']['detectors'] = detectors\n",
    "d['photon_data']['timestamps'] = timestamps"
   ]
  },
  {
   "cell_type": "markdown",
   "metadata": {},
   "source": [
    "## Metadata"
   ]
  },
  {
   "cell_type": "code",
   "execution_count": 17,
   "metadata": {
    "ExecuteTime": {
     "end_time": "2017-09-07T13:07:38.325957Z",
     "start_time": "2017-09-07T13:07:38.308910Z"
    },
    "collapsed": true
   },
   "outputs": [],
   "source": [
    "author = 'Biswajit'\n",
    "author_affiliation = 'Leiden University'\n",
    "description = 'A demonstrative pt3 data readin.'\n",
    "sample_name = 'ttttt'\n",
    "dye_names = 'ATTO655'\n",
    "buffer_name = 'HEPES pH7 with 100 mM NaCl'"
   ]
  },
  {
   "cell_type": "markdown",
   "metadata": {},
   "source": [
    "### Add meta data"
   ]
  },
  {
   "cell_type": "code",
   "execution_count": 18,
   "metadata": {
    "ExecuteTime": {
     "end_time": "2017-09-07T13:07:39.251665Z",
     "start_time": "2017-09-07T13:07:39.229262Z"
    },
    "collapsed": true
   },
   "outputs": [],
   "source": [
    "d['description'] = description\n",
    "\n",
    "d['sample'] = dict(\n",
    "    sample_name=sample_name,\n",
    "    dye_names=dye_names,\n",
    "    buffer_name=buffer_name,\n",
    "    num_dyes = len(dye_names.split(',')))\n",
    "\n",
    "d['identity'] = dict(\n",
    "    author=author,\n",
    "    author_affiliation=author_affiliation)"
   ]
  },
  {
   "cell_type": "code",
   "execution_count": 19,
   "metadata": {
    "ExecuteTime": {
     "end_time": "2017-09-07T13:07:40.029150Z",
     "start_time": "2017-09-07T13:07:40.021740Z"
    },
    "collapsed": true
   },
   "outputs": [],
   "source": [
    "# Remove some empty groups that may cause errors on saving\n",
    "_ = meta.pop('dispcurve', None)\n",
    "_ = meta.pop('imghdr', None)"
   ]
  },
  {
   "cell_type": "code",
   "execution_count": 20,
   "metadata": {
    "ExecuteTime": {
     "end_time": "2017-09-07T13:07:40.918049Z",
     "start_time": "2017-09-07T13:07:40.910705Z"
    },
    "collapsed": true
   },
   "outputs": [],
   "source": [
    "d['user'] = {'picoquant': meta}"
   ]
  },
  {
   "cell_type": "markdown",
   "metadata": {},
   "source": [
    "## Save to Photon-HDF5"
   ]
  },
  {
   "cell_type": "code",
   "execution_count": 21,
   "metadata": {
    "ExecuteTime": {
     "end_time": "2017-09-07T13:07:42.394545Z",
     "start_time": "2017-09-07T13:07:42.237620Z"
    },
    "collapsed": false
   },
   "outputs": [
    {
     "name": "stdout",
     "output_type": "stream",
     "text": [
      "Saving: data/Point_A2_000mV(7)_60.5__30s_1.hdf5\n"
     ]
    }
   ],
   "source": [
    "phc.hdf5.save_photon_hdf5(d, overwrite=True)"
   ]
  },
  {
   "cell_type": "markdown",
   "metadata": {
    "collapsed": true
   },
   "source": [
    "## Load Photon-HDF5"
   ]
  },
  {
   "cell_type": "code",
   "execution_count": 17,
   "metadata": {
    "ExecuteTime": {
     "end_time": "2017-08-29T10:40:14.404911Z",
     "start_time": "2017-08-29T10:40:14.393965Z"
    },
    "collapsed": true
   },
   "outputs": [],
   "source": [
    "from pprint import pprint"
   ]
  },
  {
   "cell_type": "code",
   "execution_count": 18,
   "metadata": {
    "ExecuteTime": {
     "end_time": "2017-08-29T10:40:15.062696Z",
     "start_time": "2017-08-29T10:40:15.053872Z"
    },
    "collapsed": true
   },
   "outputs": [],
   "source": [
    "filename = d['_data_file'].filename"
   ]
  },
  {
   "cell_type": "code",
   "execution_count": 19,
   "metadata": {
    "ExecuteTime": {
     "end_time": "2017-08-29T10:40:16.128732Z",
     "start_time": "2017-08-29T10:40:16.020950Z"
    },
    "collapsed": true
   },
   "outputs": [],
   "source": [
    "h5data = phc.hdf5.load_photon_hdf5(filename)"
   ]
  },
  {
   "cell_type": "code",
   "execution_count": 20,
   "metadata": {
    "ExecuteTime": {
     "end_time": "2017-08-29T10:40:16.720715Z",
     "start_time": "2017-08-29T10:40:16.696583Z"
    },
    "collapsed": false
   },
   "outputs": [
    {
     "data": {
      "text/plain": [
       "{'author': 'Biswajit',\n",
       " 'author_affiliation': 'Leiden University',\n",
       " 'creation_time': '2017-08-29 10:40:12',\n",
       " 'filename': 'Point_A2_000mV(7)_60.5__30s_1.hdf5',\n",
       " 'filename_full': '/home/biswajit/Research/Experimental/Analysis/Histogram_simulation/Python_simulation_Biswajit/photon_simulation/phconvert-outcome/notebook-Biswajit/data/Point_A2_000mV(7)_60.5__30s_1.hdf5',\n",
       " 'format_name': 'Photon-HDF5',\n",
       " 'format_url': 'http://photon-hdf5.org/',\n",
       " 'format_version': '0.4',\n",
       " 'software': 'phconvert',\n",
       " 'software_version': '0+unknown'}"
      ]
     },
     "execution_count": 20,
     "metadata": {},
     "output_type": "execute_result"
    }
   ],
   "source": [
    "phc.hdf5.dict_from_group(h5data.identity)"
   ]
  },
  {
   "cell_type": "code",
   "execution_count": 21,
   "metadata": {
    "ExecuteTime": {
     "end_time": "2017-08-29T10:40:17.481420Z",
     "start_time": "2017-08-29T10:40:17.459046Z"
    },
    "collapsed": false
   },
   "outputs": [
    {
     "data": {
      "text/plain": [
       "{'detection_wavelengths': array([  5.25000000e-07,   6.90000000e-07]),\n",
       " 'excitation_cw': array([0, 0], dtype=uint8),\n",
       " 'excitation_wavelengths': array([  4.70000000e-07,   6.35000000e-07]),\n",
       " 'lifetime': 1,\n",
       " 'modulated_excitation': 1,\n",
       " 'num_pixels': 2,\n",
       " 'num_polarization_ch': 1,\n",
       " 'num_spectral_ch': 2,\n",
       " 'num_split_ch': 1,\n",
       " 'num_spots': 1}"
      ]
     },
     "execution_count": 21,
     "metadata": {},
     "output_type": "execute_result"
    }
   ],
   "source": [
    "phc.hdf5.dict_from_group(h5data.setup)"
   ]
  },
  {
   "cell_type": "code",
   "execution_count": 22,
   "metadata": {
    "ExecuteTime": {
     "end_time": "2017-08-29T10:40:18.217723Z",
     "start_time": "2017-08-29T10:40:18.187082Z"
    },
    "collapsed": false
   },
   "outputs": [
    {
     "name": "stdout",
     "output_type": "stream",
     "text": [
      "{'detectors': array([1, 1, 1, ..., 1, 1, 1], dtype=uint8),\n",
      " 'measurement_specs': {'alex_excitation_period1': [4000, 5000],\n",
      "                       'alex_excitation_period2': [0, 3000],\n",
      "                       'detectors_specs': {'spectral_ch1': array([1], dtype=uint8),\n",
      "                                           'spectral_ch2': array([0], dtype=uint8)},\n",
      "                       'laser_repetition_rate': 79999615.0,\n",
      "                       'measurement_type': 'smFRET-nsALEX'},\n",
      " 'nanotimes': array([1126,  540,  725, ..., 1010,  861,  858], dtype=uint16),\n",
      " 'nanotimes_specs': {'tcspc_num_bins': 4096,\n",
      "                     'tcspc_range': 3.2767999869065534e-08,\n",
      "                     'tcspc_unit': 7.999999968033578e-12},\n",
      " 'timestamps': array([   1082643,    1088445,    1424057, ..., 2398245738, 2398941826,\n",
      "       2399364565]),\n",
      " 'timestamps_specs': {'timestamps_unit': 1.2500060156539503e-08}}\n"
     ]
    }
   ],
   "source": [
    "pprint(phc.hdf5.dict_from_group(h5data.photon_data))"
   ]
  },
  {
   "cell_type": "code",
   "execution_count": 23,
   "metadata": {
    "ExecuteTime": {
     "end_time": "2017-08-29T10:40:21.331844Z",
     "start_time": "2017-08-29T10:40:21.313438Z"
    },
    "collapsed": false
   },
   "outputs": [],
   "source": [
    "h5data._v_file.close()"
   ]
  },
  {
   "cell_type": "code",
   "execution_count": null,
   "metadata": {
    "collapsed": true
   },
   "outputs": [],
   "source": []
  }
 ],
 "metadata": {
  "anaconda-cloud": {},
  "hide_input": false,
  "kernelspec": {
   "display_name": "Python 3",
   "language": "python",
   "name": "python3"
  },
  "language_info": {
   "codemirror_mode": {
    "name": "ipython",
    "version": 3
   },
   "file_extension": ".py",
   "mimetype": "text/x-python",
   "name": "python",
   "nbconvert_exporter": "python",
   "pygments_lexer": "ipython3",
   "version": "3.6.0"
  },
  "latex_envs": {
   "LaTeX_envs_menu_present": true,
   "autocomplete": true,
   "bibliofile": "biblio.bib",
   "cite_by": "apalike",
   "current_citInitial": 1,
   "eqLabelWithNumbers": true,
   "eqNumInitial": 1,
   "hotkeys": {
    "equation": "Ctrl-E",
    "itemize": "Ctrl-I"
   },
   "labels_anchors": false,
   "latex_user_defs": false,
   "report_style_numbering": false,
   "user_envs_cfg": false
  },
  "toc": {
   "colors": {
    "hover_highlight": "#DAA520",
    "navigate_num": "#000000",
    "navigate_text": "#333333",
    "running_highlight": "#FF0000",
    "selected_highlight": "#FFD700",
    "sidebar_border": "#EEEEEE",
    "wrapper_background": "#FFFFFF"
   },
   "moveMenuLeft": true,
   "nav_menu": {
    "height": "65px",
    "width": "252px"
   },
   "navigate_menu": true,
   "number_sections": true,
   "sideBar": true,
   "threshold": 4,
   "toc_cell": false,
   "toc_section_display": "block",
   "toc_window_display": false,
   "widenNotebook": false
  }
 },
 "nbformat": 4,
 "nbformat_minor": 1
}
